{
 "cells": [
  {
   "cell_type": "code",
   "execution_count": 12,
   "metadata": {},
   "outputs": [],
   "source": [
    "import os \n",
    "import tarfile\n",
    "\n",
    "Spam_path = os.path.join(\"datasets\",\"spams\")\n",
    "ham_dir = r\"C:\\Users\\vikranth\\ml\\DOING\\datasets\\spams\\easy_ham\"\n",
    "spam_dir = r\"C:\\Users\\vikranth\\ml\\DOING\\datasets\\spams\\spam\"\n",
    "\n",
    "ham_files = [name for name in sorted(os.listdir(ham_dir))if len(name)>20]\n",
    "spam_files = [name for name in sorted(os.listdir(spam_dir))if len(name)>20]"
   ]
  },
  {
   "cell_type": "code",
   "execution_count": 13,
   "metadata": {},
   "outputs": [
    {
     "data": {
      "text/plain": [
       "2500"
      ]
     },
     "execution_count": 13,
     "metadata": {},
     "output_type": "execute_result"
    }
   ],
   "source": [
    "len(ham_files)"
   ]
  },
  {
   "cell_type": "code",
   "execution_count": 14,
   "metadata": {},
   "outputs": [
    {
     "data": {
      "text/plain": [
       "500"
      ]
     },
     "execution_count": 14,
     "metadata": {},
     "output_type": "execute_result"
    }
   ],
   "source": [
    "len(spam_files)"
   ]
  },
  {
   "cell_type": "code",
   "execution_count": 15,
   "metadata": {},
   "outputs": [],
   "source": [
    "import email\n",
    "import email.parser\n",
    "import email.policy\n",
    "\n",
    "def load_mails(is_spam , filename, spam_path = Spam_path):\n",
    "  dir = \"spam\" if is_spam else \"easy_ham\"\n",
    "  with open(os.path.join(spam_path, dir, filename), \"rb\")as f:\n",
    "    return email.parser.BytesParser(policy=email.policy.default).parse(f)"
   ]
  },
  {
   "cell_type": "code",
   "execution_count": 16,
   "metadata": {},
   "outputs": [],
   "source": [
    "ham_emails = [load_mails(is_spam=False, filename=name) for name in ham_files]\n",
    "spam_emails = [load_mails(is_spam=True, filename=name) for name in spam_files]"
   ]
  },
  {
   "cell_type": "code",
   "execution_count": 17,
   "metadata": {},
   "outputs": [
    {
     "name": "stdout",
     "output_type": "stream",
     "text": [
      "Martin A posted:\n",
      "Tassos Papadopoulos, the Greek sculptor behind the plan, judged that the\n",
      " limestone of Mount Kerdylio, 70 miles east of Salonika and not far from the\n",
      " Mount Athos monastic community, was ideal for the patriotic sculpture. \n",
      " \n",
      " As well as Alexander's granite features, 240 ft high and 170 ft wide, a\n",
      " museum, a restored amphitheatre and car park for admiring crowds are\n",
      "planned\n",
      "---------------------\n",
      "So is this mountain limestone or granite?\n",
      "If it's limestone, it'll weather pretty fast.\n",
      "\n",
      "------------------------ Yahoo! Groups Sponsor ---------------------~-->\n",
      "4 DVDs Free +s&p Join Now\n",
      "http://us.click.yahoo.com/pt6YBB/NXiEAA/mG3HAA/7gSolB/TM\n",
      "---------------------------------------------------------------------~->\n",
      "\n",
      "To unsubscribe from this group, send an email to:\n",
      "forteana-unsubscribe@egroups.com\n",
      "\n",
      " \n",
      "\n",
      "Your use of Yahoo! Groups is subject to http://docs.yahoo.com/info/terms/\n"
     ]
    }
   ],
   "source": [
    "print(ham_emails[1].get_content().strip())"
   ]
  },
  {
   "cell_type": "code",
   "execution_count": 19,
   "metadata": {},
   "outputs": [
    {
     "name": "stdout",
     "output_type": "stream",
     "text": [
      "Help wanted.  We are a 14 year old fortune 500 company, that is\n",
      "growing at a tremendous rate.  We are looking for individuals who\n",
      "want to work from home.\n",
      "\n",
      "This is an opportunity to make an excellent income.  No experience\n",
      "is required.  We will train you.\n",
      "\n",
      "So if you are looking to be employed from home with a career that has\n",
      "vast opportunities, then go:\n",
      "\n",
      "http://www.basetel.com/wealthnow\n",
      "\n",
      "We are looking for energetic and self motivated people.  If that is you\n",
      "than click on the link and fill out the form, and one of our\n",
      "employement specialist will contact you.\n",
      "\n",
      "To be removed from our link simple go to:\n",
      "\n",
      "http://www.basetel.com/remove.html\n",
      "\n",
      "\n",
      "4139vOLW7-758DoDY1425FRhM1-764SMFc8513fCsLl40\n"
     ]
    }
   ],
   "source": [
    "print(spam_emails[6].get_content().strip())"
   ]
  },
  {
   "cell_type": "code",
   "execution_count": 22,
   "metadata": {},
   "outputs": [],
   "source": [
    "from collections import Counter\n",
    "\n",
    "def get_email_structure(email):\n",
    "  if isinstance(email, str):\n",
    "    return email\n",
    "  payload = email.get_payload()\n",
    "  if isinstance(payload, list):\n",
    "    return \"multipart({})\".format(\", \".join([\n",
    "      get_email_structure(sub_email)\n",
    "      for sub_email in payload\n",
    "    ]))\n",
    "  else:\n",
    "    return email.get_content_type()\n",
    "  \n",
    "def structures_counter(emails):\n",
    "  structures = Counter()\n",
    "  for email in emails:\n",
    "    structure = get_email_structure(email)\n",
    "    structures[structure] += 1\n",
    "  return structures"
   ]
  },
  {
   "cell_type": "code",
   "execution_count": 23,
   "metadata": {},
   "outputs": [
    {
     "data": {
      "text/plain": [
       "[('text/plain', 2408),\n",
       " ('multipart(text/plain, application/pgp-signature)', 66),\n",
       " ('multipart(text/plain, text/html)', 8),\n",
       " ('multipart(text/plain, text/plain)', 4),\n",
       " ('multipart(text/plain)', 3),\n",
       " ('multipart(text/plain, application/octet-stream)', 2),\n",
       " ('multipart(text/plain, text/enriched)', 1),\n",
       " ('multipart(text/plain, application/ms-tnef, text/plain)', 1),\n",
       " ('multipart(multipart(text/plain, text/plain, text/plain), application/pgp-signature)',\n",
       "  1),\n",
       " ('multipart(text/plain, video/mng)', 1),\n",
       " ('multipart(text/plain, multipart(text/plain))', 1),\n",
       " ('multipart(text/plain, application/x-pkcs7-signature)', 1),\n",
       " ('multipart(text/plain, multipart(text/plain, text/plain), text/rfc822-headers)',\n",
       "  1),\n",
       " ('multipart(text/plain, multipart(text/plain, text/plain), multipart(multipart(text/plain, application/x-pkcs7-signature)))',\n",
       "  1),\n",
       " ('multipart(text/plain, application/x-java-applet)', 1)]"
      ]
     },
     "execution_count": 23,
     "metadata": {},
     "output_type": "execute_result"
    }
   ],
   "source": [
    "structures_counter(ham_emails).most_common()"
   ]
  },
  {
   "cell_type": "code",
   "execution_count": 24,
   "metadata": {},
   "outputs": [
    {
     "data": {
      "text/plain": [
       "[('text/plain', 218),\n",
       " ('text/html', 183),\n",
       " ('multipart(text/plain, text/html)', 45),\n",
       " ('multipart(text/html)', 20),\n",
       " ('multipart(text/plain)', 19),\n",
       " ('multipart(multipart(text/html))', 5),\n",
       " ('multipart(text/plain, image/jpeg)', 3),\n",
       " ('multipart(text/html, application/octet-stream)', 2),\n",
       " ('multipart(text/plain, application/octet-stream)', 1),\n",
       " ('multipart(text/html, text/plain)', 1),\n",
       " ('multipart(multipart(text/html), application/octet-stream, image/jpeg)', 1),\n",
       " ('multipart(multipart(text/plain, text/html), image/gif)', 1),\n",
       " ('multipart/alternative', 1)]"
      ]
     },
     "execution_count": 24,
     "metadata": {},
     "output_type": "execute_result"
    }
   ],
   "source": [
    "structures_counter(spam_emails).most_common()"
   ]
  },
  {
   "cell_type": "code",
   "execution_count": 31,
   "metadata": {},
   "outputs": [
    {
     "name": "stdout",
     "output_type": "stream",
     "text": [
      "Return-Path : <Thecashsystem@firemail.de>\n",
      "Delivered-To : zzzz@localhost.spamassassin.taint.org\n",
      "Received : from localhost (localhost [127.0.0.1])\tby phobos.labs.spamassassin.taint.org (Postfix) with ESMTP id 3453043F99\tfor <zzzz@localhost>; Thu, 22 Aug 2002 11:58:24 -0400 (EDT)\n",
      "Received : from mail.webnote.net [193.120.211.219]\tby localhost with POP3 (fetchmail-5.9.0)\tfor zzzz@localhost (single-drop); Thu, 22 Aug 2002 16:58:24 +0100 (IST)\n",
      "Received : from mailbox-13.st1.spray.net (mailbox-13.st1.spray.net [212.78.202.113])\tby webnote.net (8.9.3/8.9.3) with ESMTP id QAA05573\tfor <zzzz@spamassassin.taint.org>; Thu, 22 Aug 2002 16:55:29 +0100\n",
      "Received : from freesource (user-24-214-168-210.knology.net [24.214.168.210])\tby mailbox-13.st1.spray.net (Postfix) with ESMTP\tid ADDD03E25C; Thu, 22 Aug 2002 17:50:55 +0200 (DST)\n",
      "Message-ID : <413-220028422154219900@freesource>\n",
      "X-Priority : 1\n",
      "To : 1 <thecashsystem@firemail.de>\n",
      "From : TheCashSystem <Thecashsystem@firemail.de>\n",
      "Subject : RE: Your Bank Account Information \n",
      "Date : Thu, 22 Aug 2002 10:42:19 -0500\n",
      "MIME-Version : 1.0\n",
      "Content-type : text/plain; charset=\"US-ASCII\"\n",
      "X-MIME-Autoconverted : from quoted-printable to 8bit by webnote.net id QAA05573\n",
      "Content-Transfer-Encoding : 8bit\n"
     ]
    }
   ],
   "source": [
    "for header, value in spam_emails[5].items():\n",
    "  print(header,\":\", value)"
   ]
  },
  {
   "cell_type": "code",
   "execution_count": 32,
   "metadata": {},
   "outputs": [
    {
     "data": {
      "text/plain": [
       "'Life Insurance - Why Pay More?'"
      ]
     },
     "execution_count": 32,
     "metadata": {},
     "output_type": "execute_result"
    }
   ],
   "source": [
    "spam_emails[0][\"Subject\"]"
   ]
  },
  {
   "cell_type": "code",
   "execution_count": 35,
   "metadata": {},
   "outputs": [],
   "source": [
    "import numpy as np \n",
    "from sklearn.model_selection import train_test_split\n",
    "\n",
    "X = np.array(ham_emails + spam_emails, dtype= object)\n",
    "Y = np.array([0]*len(ham_emails)+[1]*len(spam_emails))\n",
    "\n",
    "x_train, x_test, y_train, y_test = train_test_split(X, Y, test_size=0.2, random_state=42)"
   ]
  },
  {
   "cell_type": "code",
   "execution_count": 36,
   "metadata": {},
   "outputs": [],
   "source": [
    "import re\n",
    "from html import unescape\n",
    "\n",
    "def html_to_plain_text(html):\n",
    "    text = re.sub('<head.*?>.*?</head>', '', html, flags=re.M | re.S | re.I)\n",
    "    text = re.sub('<a\\s.*?>', ' HYPERLINK ', text, flags=re.M | re.S | re.I)\n",
    "    text = re.sub('<.*?>', '', text, flags=re.M | re.S)\n",
    "    text = re.sub(r'(\\s*\\n)+', '\\n', text, flags=re.M | re.S)\n",
    "    return unescape(text)"
   ]
  },
  {
   "cell_type": "code",
   "execution_count": 44,
   "metadata": {},
   "outputs": [
    {
     "name": "stdout",
     "output_type": "stream",
     "text": [
      "<HTML>\n",
      "<BODY BGCOLOR=\"#ffffff\">\n",
      "<P>\n",
      "<<HTML>\n",
      "<TABLE WIDTH=400 BORDER=0 CELLPADDING=0 CELLSPACING=0>\n",
      "  <TR>\n",
      "    <TD ALIGN=\"LEFT\" VALIGN=\"TOP\"><FONT FACE=\"Tahoma, Arial, Verdana\" SIZE=2></FONT>\n",
      "      <H2>\n",
      "\t<FONT COLOR=\"#FF0000\">GET HIGH...LEGALLY!</FONT>\n",
      "      </H2>\n",
      "      <P>\n",
      "      <B>IT REALLY WORKS!<BR>\n",
      "      PASSES ALL DRUG TESTS!<BR>\n",
      "      EXTREMELY POTENT!</B>\n",
      "      <P>\n",
      "      <A HREF=\"http://www.greenmatrix.net/herb/index.html\"><B>CLICK HERE for more\n",
      "      info on Salvia Divinorum</B></A>\n",
      "      <P>\n",
      "      <B> <A HREF=\"http://www.greenmatrix.net/herb/5x.html\">CLICK HERE for SALVIA\n",
      "      5X EXTRACT!</A> <BR>\n",
      "      <FONT COLOR=\"#FF0000\"><BIG>WARNING...VERY POTENT!</BIG></FONT></B>\n",
      "      <P>\n",
      "      <B> <A HREF=\"http://www.greenmatrix.net/herb/13x.html\">CLICK HERE for SALVIA\n",
      "      13X</A>. The most POTENT, LEGAL, SMOKABLE herb on the planet! 13 times the\n",
      "      power of Salvia Divinorum!<BR>\n",
      "      <FONT COLOR=\"#FF0000\"><BIG>WARNING...EXTREMELY POTENT!</BIG></FONT></B>\n",
      "      <P>\n",
      "      <P>\n",
      "    ...\n"
     ]
    }
   ],
   "source": [
    "html_spam_emails = [email for email in x_train[y_train==1]\n",
    "                    if get_email_structure(email)==\"text/html\"]\n",
    "sample_html_spam = html_spam_emails[0]\n",
    "print(sample_html_spam.get_content()[:1000], \"...\")"
   ]
  },
  {
   "cell_type": "code",
   "execution_count": 43,
   "metadata": {},
   "outputs": [
    {
     "name": "stdout",
     "output_type": "stream",
     "text": [
      "\n",
      "\tGET HIGH...LEGALLY!\n",
      "      IT REALLY WORKS!\n",
      "      PASSES ALL DRUG TESTS!\n",
      "      EXTREMELY POTENT!\n",
      "       HYPERLINK CLICK HERE for more\n",
      "      info on Salvia Divinorum\n",
      "        HYPERLINK CLICK HERE for SALVIA\n",
      "      5X EXTRACT!\n",
      "      WARNING...VERY POTENT!\n",
      "        HYPERLINK CLICK HERE for SALVIA\n",
      "      13X. The most POTENT, LEGAL, SMOKABLE herb on the planet! 13 times the\n",
      "      power of Salvia Divinorum!\n",
      "      WARNING...EXTREMELY POTENT!\n",
      "      Removal Information:\n",
      "      We are strongly against sending unsolicited emails to those who do not wish\n",
      "      to receive our special mailings. You have opted in to one or more of our\n",
      "      affiliate sites requesting to be notified of any special offers we may run\n",
      "      from time to time. This is NOT unsolicited email. If you do not wish to receive\n",
      "      further mailings, please\n",
      "       HYPERLINK click here to be removed\n",
      "      from the list. Please accept our apologies if you have been sent this\n",
      "      email in error. We honor all removal requests within  ...\n"
     ]
    }
   ],
   "source": [
    "print(html_to_plain_text(sample_html_spam.get_content())[:1000], \"...\")"
   ]
  },
  {
   "cell_type": "code",
   "execution_count": null,
   "metadata": {},
   "outputs": [],
   "source": []
  }
 ],
 "metadata": {
  "kernelspec": {
   "display_name": "Python 3",
   "language": "python",
   "name": "python3"
  },
  "language_info": {
   "codemirror_mode": {
    "name": "ipython",
    "version": 3
   },
   "file_extension": ".py",
   "mimetype": "text/x-python",
   "name": "python",
   "nbconvert_exporter": "python",
   "pygments_lexer": "ipython3",
   "version": "3.11.5"
  }
 },
 "nbformat": 4,
 "nbformat_minor": 2
}
